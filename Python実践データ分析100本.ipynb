{
 "cells": [
  {
   "cell_type": "code",
   "execution_count": 4,
   "metadata": {},
   "outputs": [],
   "source": [
    "import os\n",
    "\n",
    "\n",
    "def ensure_and_move_to_folder(folder_name):\n",
    "  current_dir = os.getcwd()\n",
    "  target_path = os.path.join(current_dir, folder_name)\n",
    "\n",
    "  if not os.path.exists(target_path):\n",
    "    os.makedirs(target_path)\n",
    "    print(f\"Folder '{folder_name}' created successfully.\")\n",
    "  else:\n",
    "    print(f\"Folder '{folder_name}' already exists.\")\n",
    "\n",
    "  #os.chdir(target_path)"
   ]
  },
  {
   "cell_type": "code",
   "execution_count": 5,
   "metadata": {},
   "outputs": [
    {
     "name": "stdout",
     "output_type": "stream",
     "text": [
      "Folder 'Python実践データ分析100本ノック' created successfully.\n"
     ]
    },
    {
     "data": {
      "text/plain": [
       "'/Users/takanohiroshi/Library/CloudStorage/OneDrive-YokohamaInternationalExchangeAssociation/GitHub/VSCode2/Python実践データ分析100本ノック'"
      ]
     },
     "execution_count": 5,
     "metadata": {},
     "output_type": "execute_result"
    }
   ],
   "source": [
    "folder_name = 'Python実践データ分析100本ノック'\n",
    "ensure_and_move_to_folder(folder_name)\n",
    "\n",
    "path = os.getcwd()\n",
    "\n",
    "try:\n",
    "    os.chdir('../VSCode2/Python実践データ分析100本ノック')\n",
    "except:\n",
    "    pass\n",
    "\n",
    "os.getcwd()"
   ]
  },
  {
   "cell_type": "code",
   "execution_count": null,
   "metadata": {},
   "outputs": [],
   "source": []
  }
 ],
 "metadata": {
  "kernelspec": {
   "display_name": "Python 3",
   "language": "python",
   "name": "python3"
  },
  "language_info": {
   "codemirror_mode": {
    "name": "ipython",
    "version": 3
   },
   "file_extension": ".py",
   "mimetype": "text/x-python",
   "name": "python",
   "nbconvert_exporter": "python",
   "pygments_lexer": "ipython3",
   "version": "3.10.5"
  }
 },
 "nbformat": 4,
 "nbformat_minor": 2
}
