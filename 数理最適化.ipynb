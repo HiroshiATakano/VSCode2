{
 "cells": [
  {
   "cell_type": "code",
   "execution_count": 52,
   "metadata": {},
   "outputs": [],
   "source": [
    "import os\n",
    "\n",
    "\n",
    "def ensure_and_move_to_folder(folder_name):\n",
    "  current_dir = os.getcwd()\n",
    "  target_path = os.path.join(current_dir, folder_name)\n",
    "\n",
    "  if not os.path.exists(target_path):\n",
    "    os.makedirs(target_path)\n",
    "    print(f\"Folder '{folder_name}' created successfully.\")\n",
    "  else:\n",
    "    print(f\"Folder '{folder_name}' already exists.\")\n",
    "\n",
    "  #os.chdir(target_path)"
   ]
  },
  {
   "cell_type": "code",
   "execution_count": 53,
   "metadata": {},
   "outputs": [
    {
     "name": "stdout",
     "output_type": "stream",
     "text": [
      "Folder '数理最適化' already exists.\n"
     ]
    },
    {
     "data": {
      "text/plain": [
       "'/Users/takanohiroshi/Library/CloudStorage/OneDrive-YokohamaInternationalExchangeAssociation/GitHub/VSCode2/数理最適化'"
      ]
     },
     "execution_count": 53,
     "metadata": {},
     "output_type": "execute_result"
    }
   ],
   "source": [
    "folder_name = '数理最適化'\n",
    "ensure_and_move_to_folder(folder_name)\n",
    "\n",
    "path = os.getcwd()\n",
    "\n",
    "try:\n",
    "    os.chdir('../VSCode2/数理最適化')\n",
    "except:\n",
    "    pass\n",
    "\n",
    "os.getcwd()"
   ]
  },
  {
   "cell_type": "code",
   "execution_count": 54,
   "metadata": {},
   "outputs": [
    {
     "data": {
      "text/html": [
       "<div>\n",
       "<style scoped>\n",
       "    .dataframe tbody tr th:only-of-type {\n",
       "        vertical-align: middle;\n",
       "    }\n",
       "\n",
       "    .dataframe tbody tr th {\n",
       "        vertical-align: top;\n",
       "    }\n",
       "\n",
       "    .dataframe thead th {\n",
       "        text-align: right;\n",
       "    }\n",
       "</style>\n",
       "<table border=\"1\" class=\"dataframe\">\n",
       "  <thead>\n",
       "    <tr style=\"text-align: right;\">\n",
       "      <th></th>\n",
       "      <th>X</th>\n",
       "      <th>Y</th>\n",
       "      <th>Stock</th>\n",
       "    </tr>\n",
       "    <tr>\n",
       "      <th></th>\n",
       "      <th></th>\n",
       "      <th></th>\n",
       "      <th></th>\n",
       "    </tr>\n",
       "  </thead>\n",
       "  <tbody>\n",
       "    <tr>\n",
       "      <th>A</th>\n",
       "      <td>3</td>\n",
       "      <td>3</td>\n",
       "      <td>48</td>\n",
       "    </tr>\n",
       "    <tr>\n",
       "      <th>B</th>\n",
       "      <td>1</td>\n",
       "      <td>6</td>\n",
       "      <td>36</td>\n",
       "    </tr>\n",
       "    <tr>\n",
       "      <th>Venefit</th>\n",
       "      <td>10</td>\n",
       "      <td>20</td>\n",
       "      <td></td>\n",
       "    </tr>\n",
       "  </tbody>\n",
       "</table>\n",
       "</div>"
      ],
      "text/plain": [
       "          X   Y Stock\n",
       "                     \n",
       "A         3   3    48\n",
       "B         1   6    36\n",
       "Venefit  10  20      "
      ]
     },
     "execution_count": 54,
     "metadata": {},
     "output_type": "execute_result"
    }
   ],
   "source": [
    "import numpy as np # type: ignore\n",
    "import matplotlib.pyplot as plt # type: ignore\n",
    "import japanize_matplotlib # type: ignore\n",
    "import pandas as pd # type: ignore\n",
    "\n",
    "import gspread # type: ignore\n",
    "from google.oauth2.service_account import Credentials # type: ignore\n",
    "\n",
    "import polars as pl # type: ignore\n",
    "import numpy as np # type: ignore\n",
    "import pulp # type: ignore\n",
    "#from pulp import LpProblem, LpVariable, LpMaximize, LpSum, value\n",
    "\n",
    "# 認証情報の設定\n",
    "SERVICE_ACCOUNT_FILE = \"my-project-vscode-452201-249bdb033f8c.json\"  # JSONファイルのパス\n",
    "SCOPES = [\"https://www.googleapis.com/auth/spreadsheets\"]\n",
    "\n",
    "credentials = Credentials.from_service_account_file(SERVICE_ACCOUNT_FILE, scopes=SCOPES)\n",
    "client = gspread.authorize(credentials)\n",
    "\n",
    "# スプレッドシートを開く（URLまたはスプレッドシートIDを使用）\n",
    "#SPREADSHEET_ID = \"1Ma7ehT4TAnkUwJjspP-C3mwJA1hYmbJr8B9GJSFI0lU\"  # スプレッドシートのID\n",
    "SPREADSHEET_ID = \"1Ma7ehT4TAnkUwJjspP-C3mwJA1hYmbJr8B9GJSFI0lU\"\n",
    "sheet = client.open_by_key(SPREADSHEET_ID).worksheet(\"Sheet4\") # 最初のシートを取得\n",
    "\n",
    "# データを取得\n",
    "list_of_lists = sheet.get_all_records()\n",
    "df = pd.DataFrame(list_of_lists)\n",
    "df = df.set_index(df.columns[0])\n",
    "\n",
    "df\n"
   ]
  },
  {
   "cell_type": "code",
   "execution_count": 55,
   "metadata": {},
   "outputs": [],
   "source": [
    "P = df.columns[:2].to_list()\n",
    "M = df.index[:2].to_list()\n",
    "stock = dict(df['Stock'][:2])\n",
    "gain = dict(df.loc['Venefit'][:2])\n",
    "require = {(p, m): df.loc[m, p] for p in P for m in M}\n",
    "\n",
    "x = {}\n",
    "for p in P:\n",
    "  x[p] = pulp.LpVariable(p, lowBound=0, cat='Continuous')"
   ]
  },
  {
   "cell_type": "code",
   "execution_count": 56,
   "metadata": {},
   "outputs": [
    {
     "name": "stdout",
     "output_type": "stream",
     "text": [
      "Welcome to the CBC MILP Solver \n",
      "Version: 2.10.3 \n",
      "Build Date: Dec 15 2019 \n",
      "\n",
      "command line - /Users/takanohiroshi/.pyenv/versions/3.10.5/lib/python3.10/site-packages/pulp/solverdir/cbc/osx/64/cbc /var/folders/52/k1p3ltss0cx1z00jsbnh_2xr0000gn/T/e1d94e88141f494f8339b3a2cb0817b6-pulp.mps -max -timeMode elapsed -branch -printingOptions all -solution /var/folders/52/k1p3ltss0cx1z00jsbnh_2xr0000gn/T/e1d94e88141f494f8339b3a2cb0817b6-pulp.sol (default strategy 1)\n",
      "At line 2 NAME          MODEL\n",
      "At line 3 ROWS\n",
      "At line 9 COLUMNS\n",
      "At line 20 RHS\n",
      "At line 25 BOUNDS\n",
      "At line 26 ENDATA\n",
      "Problem MODEL has 4 rows, 2 columns and 8 elements\n",
      "Coin0008I MODEL read with 0 errors\n",
      "Option for timeMode changed from cpu to elapsed\n",
      "Presolve 2 (-2) rows, 2 (0) columns and 4 (-4) elements\n",
      "0  Obj -0 Dual inf 18.164964 (2)\n",
      "2  Obj 200\n",
      "Optimal - objective value 200\n",
      "After Postsolve, objective 200, infeasibilities - dual 0 (0), primal 0 (0)\n",
      "Optimal objective 200 - 2 iterations time 0.002, Presolve 0.00\n",
      "Option for printingOptions changed from normal to all\n",
      "Total time (CPU seconds):       0.00   (Wallclock seconds):       0.02\n",
      "\n",
      "Optimal\n"
     ]
    }
   ],
   "source": [
    "problem = pulp.LpProblem(\"Maximize_gain\", pulp.LpMaximize)\n",
    "\n",
    "for m in M:\n",
    "  for p in P:\n",
    "    problem += pulp.lpSum([require[(p,m)] * x[p] for p in P]) <= stock[m]\n",
    "\n",
    "problem += pulp.lpSum([gain[p]*x[p] for p in P])\n",
    "\n",
    "status = problem.solve()\n",
    "print(pulp.LpStatus[status])"
   ]
  },
  {
   "cell_type": "code",
   "execution_count": 57,
   "metadata": {},
   "outputs": [
    {
     "name": "stdout",
     "output_type": "stream",
     "text": [
      "X 12.0\n",
      "Y 4.0\n",
      "obj= 200.0\n"
     ]
    }
   ],
   "source": [
    "for p in P:\n",
    "  print(p, x[p].value())\n",
    "print(\"obj=\", problem.objective.value())"
   ]
  },
  {
   "cell_type": "code",
   "execution_count": 58,
   "metadata": {},
   "outputs": [],
   "source": [
    "import polars as pl"
   ]
  },
  {
   "cell_type": "code",
   "execution_count": 59,
   "metadata": {},
   "outputs": [],
   "source": [
    "# データ取得\n",
    "stock_df = pl.read_csv('2.tutorial/stocks.csv')\n",
    "require_df = pl.read_csv('2.tutorial/requires.csv')\n",
    "gain_df = pl.read_csv('2.tutorial/gains.csv')"
   ]
  },
  {
   "cell_type": "code",
   "execution_count": 60,
   "metadata": {},
   "outputs": [],
   "source": [
    "stock = dict(zip(stock_df[\"m\"], stock_df[\"stock\"]))\n",
    "require = dict(zip(zip(require_df[\"p\"],require_df[\"m\"]), require_df[\"require\"]))\n",
    "gain = dict(zip(gain_df[\"p\"], gain_df['gain']))"
   ]
  },
  {
   "cell_type": "code",
   "execution_count": 61,
   "metadata": {},
   "outputs": [],
   "source": [
    "P = gain_df['p'].to_list()\n",
    "M = stock_df['m'].to_list()"
   ]
  },
  {
   "cell_type": "code",
   "execution_count": 62,
   "metadata": {},
   "outputs": [],
   "source": [
    "#　線形計画問題の定義\n",
    "problem = pulp.LpProblem('LP', pulp.LpMaximize)\n",
    "\n",
    "# 変数の定義 整数計算問題は安定して解くことは期待できない\n",
    "x = pulp.LpVariable.dicts(\"x\", P, lowBound=0, cat='Continuous')\n",
    "\n",
    "# 生産量は在庫の範囲で行うという制約\n",
    "for m in M:\n",
    "    problem += pulp.lpSum(require[p, m] * x[p] for p in P) <= stock[m]\n",
    "\n",
    "# 目的関数の定義\n",
    "problem += pulp.lpSum([gain[p]*x[p] for p in P])\n"
   ]
  },
  {
   "cell_type": "code",
   "execution_count": 63,
   "metadata": {},
   "outputs": [
    {
     "name": "stdout",
     "output_type": "stream",
     "text": [
      "Welcome to the CBC MILP Solver \n",
      "Version: 2.10.3 \n",
      "Build Date: Dec 15 2019 \n",
      "\n",
      "command line - /Users/takanohiroshi/.pyenv/versions/3.10.5/lib/python3.10/site-packages/pulp/solverdir/cbc/osx/64/cbc /var/folders/52/k1p3ltss0cx1z00jsbnh_2xr0000gn/T/ac926e6e301c4dd288b60606194165b8-pulp.mps -max -timeMode elapsed -branch -printingOptions all -solution /var/folders/52/k1p3ltss0cx1z00jsbnh_2xr0000gn/T/ac926e6e301c4dd288b60606194165b8-pulp.sol (default strategy 1)\n",
      "At line 2 NAME          MODEL\n",
      "At line 3 ROWS\n",
      "At line 8 COLUMNS\n",
      "At line 22 RHS\n",
      "At line 26 BOUNDS\n",
      "At line 27 ENDATA\n",
      "Problem MODEL has 3 rows, 4 columns and 9 elements\n",
      "Coin0008I MODEL read with 0 errors\n",
      "Option for timeMode changed from cpu to elapsed\n",
      "Presolve 3 (0) rows, 4 (0) columns and 9 (0) elements\n",
      "0  Obj -0 Dual inf 17.5 (4)\n",
      "0  Obj -0 Dual inf 17.5 (4)\n",
      "4  Obj 80.428571\n",
      "Optimal - objective value 80.428571\n",
      "Optimal objective 80.42857143 - 4 iterations time 0.002\n",
      "Option for printingOptions changed from normal to all\n",
      "Total time (CPU seconds):       0.00   (Wallclock seconds):       0.01\n",
      "\n",
      "status Optimal\n"
     ]
    }
   ],
   "source": [
    "status = problem.solve()\n",
    "print('status', pulp.LpStatus[status])"
   ]
  },
  {
   "cell_type": "code",
   "execution_count": 64,
   "metadata": {},
   "outputs": [
    {
     "name": "stdout",
     "output_type": "stream",
     "text": [
      "p1 12.142857\n",
      "p2 3.5714286\n",
      "p3 7.4285714\n",
      "p4 0.0\n",
      "obj= 80.42857099999999\n"
     ]
    }
   ],
   "source": [
    "for p in P:\n",
    "  print(p, x[p].value())\n",
    "\n",
    "print('obj=', problem.objective.value())"
   ]
  },
  {
   "cell_type": "code",
   "execution_count": null,
   "metadata": {},
   "outputs": [],
   "source": []
  },
  {
   "cell_type": "markdown",
   "metadata": {},
   "source": [
    "# 割引クーポンキャンペーンの効果最大化"
   ]
  },
  {
   "cell_type": "code",
   "execution_count": 65,
   "metadata": {},
   "outputs": [],
   "source": [
    "import pandas as pd\n",
    "import polars as pu\n",
    "import seaborn as sns\n",
    "import matplotlib.pyplot as plt\n",
    "import polars as pl\n",
    "\n",
    "\n",
    "cust_df = pl.read_csv('4.coupon/customers.csv')\n",
    "prob_df = pl.read_csv('4.coupon/visit_probability.csv')"
   ]
  },
  {
   "cell_type": "code",
   "execution_count": 66,
   "metadata": {},
   "outputs": [
    {
     "name": "stdout",
     "output_type": "stream",
     "text": [
      "Rows: 16\n",
      "Columns: 6\n",
      "$ age_cat    <str> age~19, age~19, age~19, age~19, age20~34, age20~34, age20~34, age20~34, age35~49, age35~49\n",
      "$ freq_cat   <str> freq0, freq1, freq2, freq3~, freq0, freq1, freq2, freq3~, freq0, freq1\n",
      "$ segment_id <i64> 1, 2, 3, 4, 5, 6, 7, 8, 9, 10\n",
      "$ prob_dm1   <f64> 0.07, 0.21, 0.28, 0.35, 0.11, 0.32, 0.42, 0.52, 0.08, 0.25\n",
      "$ prob_dm2   <f64> 0.12, 0.3, 0.39, 0.45, 0.17, 0.43, 0.55, 0.63, 0.14, 0.35\n",
      "$ prob_dm3   <f64> 0.29, 0.58, 0.74, 0.77, 0.37, 0.72, 0.93, 0.94, 0.33, 0.67\n",
      "\n"
     ]
    }
   ],
   "source": [
    "print(prob_df.glimpse())"
   ]
  },
  {
   "cell_type": "code",
   "execution_count": 67,
   "metadata": {},
   "outputs": [
    {
     "data": {
      "text/plain": [
       "<AxesSubplot:ylabel='Count'>"
      ]
     },
     "execution_count": 67,
     "metadata": {},
     "output_type": "execute_result"
    },
    {
     "data": {
      "image/png": "[encoded data removed]",
      "text/plain": [
       "<Figure size 432x288 with 1 Axes>"
      ]
     },
     "metadata": {
      "needs_background": "light"
     },
     "output_type": "display_data"
    }
   ],
   "source": [
    "sns.histplot(cust_df['age_cat'].to_list(), bins=5)"
   ]
  },
  {
   "cell_type": "markdown",
   "metadata": {},
   "source": [
    "# "
   ]
  },
  {
   "cell_type": "code",
   "execution_count": 68,
   "metadata": {},
   "outputs": [
    {
     "data": {
      "text/plain": [
       "<AxesSubplot:ylabel='Count'>"
      ]
     },
     "execution_count": 68,
     "metadata": {},
     "output_type": "execute_result"
    },
    {
     "data": {
      "image/png": "[encoded data removed]",
      "text/plain": [
       "<Figure size 432x288 with 1 Axes>"
      ]
     },
     "metadata": {
      "needs_background": "light"
     },
     "output_type": "display_data"
    }
   ],
   "source": [
    "sns.histplot(cust_df['freq_cat'].to_list(),bins=5)"
   ]
  },
  {
   "cell_type": "code",
   "execution_count": 69,
   "metadata": {},
   "outputs": [
    {
     "data": {
      "text/html": [
       "<div>\n",
       "<style scoped>\n",
       "    .dataframe tbody tr th:only-of-type {\n",
       "        vertical-align: middle;\n",
       "    }\n",
       "\n",
       "    .dataframe tbody tr th {\n",
       "        vertical-align: top;\n",
       "    }\n",
       "\n",
       "    .dataframe thead th {\n",
       "        text-align: right;\n",
       "    }\n",
       "</style>\n",
       "<table border=\"1\" class=\"dataframe\">\n",
       "  <thead>\n",
       "    <tr style=\"text-align: right;\">\n",
       "      <th></th>\n",
       "      <th>freq0</th>\n",
       "      <th>freq1</th>\n",
       "      <th>freq2</th>\n",
       "      <th>freq3~</th>\n",
       "    </tr>\n",
       "    <tr>\n",
       "      <th>age_cat</th>\n",
       "      <th></th>\n",
       "      <th></th>\n",
       "      <th></th>\n",
       "      <th></th>\n",
       "    </tr>\n",
       "  </thead>\n",
       "  <tbody>\n",
       "    <tr>\n",
       "      <th>age~19</th>\n",
       "      <td>200</td>\n",
       "      <td>150</td>\n",
       "      <td>50</td>\n",
       "      <td>100</td>\n",
       "    </tr>\n",
       "    <tr>\n",
       "      <th>age20~34</th>\n",
       "      <td>600</td>\n",
       "      <td>450</td>\n",
       "      <td>150</td>\n",
       "      <td>300</td>\n",
       "    </tr>\n",
       "    <tr>\n",
       "      <th>age35~49</th>\n",
       "      <td>800</td>\n",
       "      <td>600</td>\n",
       "      <td>200</td>\n",
       "      <td>400</td>\n",
       "    </tr>\n",
       "    <tr>\n",
       "      <th>age50~</th>\n",
       "      <td>400</td>\n",
       "      <td>300</td>\n",
       "      <td>100</td>\n",
       "      <td>200</td>\n",
       "    </tr>\n",
       "  </tbody>\n",
       "</table>\n",
       "</div>"
      ],
      "text/plain": [
       "          freq0  freq1  freq2  freq3~\n",
       "age_cat                              \n",
       "age~19      200    150     50     100\n",
       "age20~34    600    450    150     300\n",
       "age35~49    800    600    200     400\n",
       "age50~      400    300    100     200"
      ]
     },
     "execution_count": 69,
     "metadata": {},
     "output_type": "execute_result"
    }
   ],
   "source": [
    "pivot_table_df = cust_df.pivot(\n",
    "    values=\"customer_id\",\n",
    "    index=\"age_cat\",\n",
    "    columns=\"freq_cat\",\n",
    "    aggregate_fn=\"count\"  # \n",
    ")\n",
    "\n",
    "pivot_table_df = pivot_table_df.sort(\"age_cat\")\n",
    "\n",
    "age_order = [\"age~19\", \"age20~34\",\"age35~49\",\"age50~\"]\n",
    "order_map = {v: i for i, v in enumerate(age_order)}\n",
    "\n",
    "pivot_table_df = pivot_table_df.with_columns(pl.col(\"age_cat\").apply(lambda x : order_map.get(x,-1)).alias(\"sort_order\"))\n",
    "pivot_table_df = pivot_table_df.sort(\"sort_order\").drop(\"sort_order\")\n",
    "\n",
    "sorted_table = sorted(pivot_table_df.columns)\n",
    "pivot_table_df = pivot_table_df[sorted_table]\n",
    "\n",
    "df_pandas = pivot_table_df.to_pandas().set_index('age_cat')\n",
    "df_pandas"
   ]
  },
  {
   "cell_type": "code",
   "execution_count": 70,
   "metadata": {},
   "outputs": [
    {
     "data": {
      "image/png": "[encoded data removed]",
      "text/plain": [
       "<Figure size 432x288 with 2 Axes>"
      ]
     },
     "metadata": {
      "needs_background": "light"
     },
     "output_type": "display_data"
    }
   ],
   "source": [
    "import seaborn as sns\n",
    "import matplotlib.pyplot as plt\n",
    "\n",
    "\n",
    "# Heatmapの描画\n",
    "sns.heatmap(df_pandas, annot=True, fmt='d', cmap='Blues')\n",
    "\n",
    "plt.show()\n"
   ]
  },
  {
   "cell_type": "code",
   "execution_count": 71,
   "metadata": {},
   "outputs": [
    {
     "data": {
      "text/html": [
       "<div>\n",
       "<style scoped>\n",
       "    .dataframe tbody tr th:only-of-type {\n",
       "        vertical-align: middle;\n",
       "    }\n",
       "\n",
       "    .dataframe tbody tr th {\n",
       "        vertical-align: top;\n",
       "    }\n",
       "\n",
       "    .dataframe thead th {\n",
       "        text-align: right;\n",
       "    }\n",
       "</style>\n",
       "<table border=\"1\" class=\"dataframe\">\n",
       "  <thead>\n",
       "    <tr style=\"text-align: right;\">\n",
       "      <th></th>\n",
       "      <th>age_cat</th>\n",
       "      <th>freq_cat</th>\n",
       "      <th>segment_id</th>\n",
       "      <th>prob_dm1</th>\n",
       "      <th>prob_dm2</th>\n",
       "      <th>prob_dm3</th>\n",
       "    </tr>\n",
       "  </thead>\n",
       "  <tbody>\n",
       "    <tr>\n",
       "      <th>0</th>\n",
       "      <td>age~19</td>\n",
       "      <td>freq0</td>\n",
       "      <td>1</td>\n",
       "      <td>0.07</td>\n",
       "      <td>0.12</td>\n",
       "      <td>0.29</td>\n",
       "    </tr>\n",
       "    <tr>\n",
       "      <th>1</th>\n",
       "      <td>age~19</td>\n",
       "      <td>freq1</td>\n",
       "      <td>2</td>\n",
       "      <td>0.21</td>\n",
       "      <td>0.30</td>\n",
       "      <td>0.58</td>\n",
       "    </tr>\n",
       "    <tr>\n",
       "      <th>2</th>\n",
       "      <td>age~19</td>\n",
       "      <td>freq2</td>\n",
       "      <td>3</td>\n",
       "      <td>0.28</td>\n",
       "      <td>0.39</td>\n",
       "      <td>0.74</td>\n",
       "    </tr>\n",
       "    <tr>\n",
       "      <th>3</th>\n",
       "      <td>age~19</td>\n",
       "      <td>freq3~</td>\n",
       "      <td>4</td>\n",
       "      <td>0.35</td>\n",
       "      <td>0.45</td>\n",
       "      <td>0.77</td>\n",
       "    </tr>\n",
       "    <tr>\n",
       "      <th>4</th>\n",
       "      <td>age20~34</td>\n",
       "      <td>freq0</td>\n",
       "      <td>5</td>\n",
       "      <td>0.11</td>\n",
       "      <td>0.17</td>\n",
       "      <td>0.37</td>\n",
       "    </tr>\n",
       "    <tr>\n",
       "      <th>5</th>\n",
       "      <td>age20~34</td>\n",
       "      <td>freq1</td>\n",
       "      <td>6</td>\n",
       "      <td>0.32</td>\n",
       "      <td>0.43</td>\n",
       "      <td>0.72</td>\n",
       "    </tr>\n",
       "    <tr>\n",
       "      <th>6</th>\n",
       "      <td>age20~34</td>\n",
       "      <td>freq2</td>\n",
       "      <td>7</td>\n",
       "      <td>0.42</td>\n",
       "      <td>0.55</td>\n",
       "      <td>0.93</td>\n",
       "    </tr>\n",
       "    <tr>\n",
       "      <th>7</th>\n",
       "      <td>age20~34</td>\n",
       "      <td>freq3~</td>\n",
       "      <td>8</td>\n",
       "      <td>0.52</td>\n",
       "      <td>0.63</td>\n",
       "      <td>0.94</td>\n",
       "    </tr>\n",
       "    <tr>\n",
       "      <th>8</th>\n",
       "      <td>age35~49</td>\n",
       "      <td>freq0</td>\n",
       "      <td>9</td>\n",
       "      <td>0.08</td>\n",
       "      <td>0.14</td>\n",
       "      <td>0.33</td>\n",
       "    </tr>\n",
       "    <tr>\n",
       "      <th>9</th>\n",
       "      <td>age35~49</td>\n",
       "      <td>freq1</td>\n",
       "      <td>10</td>\n",
       "      <td>0.25</td>\n",
       "      <td>0.35</td>\n",
       "      <td>0.67</td>\n",
       "    </tr>\n",
       "    <tr>\n",
       "      <th>10</th>\n",
       "      <td>age35~49</td>\n",
       "      <td>freq2</td>\n",
       "      <td>11</td>\n",
       "      <td>0.34</td>\n",
       "      <td>0.45</td>\n",
       "      <td>0.86</td>\n",
       "    </tr>\n",
       "    <tr>\n",
       "      <th>11</th>\n",
       "      <td>age35~49</td>\n",
       "      <td>freq3~</td>\n",
       "      <td>12</td>\n",
       "      <td>0.42</td>\n",
       "      <td>0.52</td>\n",
       "      <td>0.89</td>\n",
       "    </tr>\n",
       "    <tr>\n",
       "      <th>12</th>\n",
       "      <td>age50~</td>\n",
       "      <td>freq0</td>\n",
       "      <td>13</td>\n",
       "      <td>0.07</td>\n",
       "      <td>0.13</td>\n",
       "      <td>0.32</td>\n",
       "    </tr>\n",
       "    <tr>\n",
       "      <th>13</th>\n",
       "      <td>age50~</td>\n",
       "      <td>freq1</td>\n",
       "      <td>14</td>\n",
       "      <td>0.21</td>\n",
       "      <td>0.33</td>\n",
       "      <td>0.65</td>\n",
       "    </tr>\n",
       "    <tr>\n",
       "      <th>14</th>\n",
       "      <td>age50~</td>\n",
       "      <td>freq2</td>\n",
       "      <td>15</td>\n",
       "      <td>0.28</td>\n",
       "      <td>0.42</td>\n",
       "      <td>0.84</td>\n",
       "    </tr>\n",
       "    <tr>\n",
       "      <th>15</th>\n",
       "      <td>age50~</td>\n",
       "      <td>freq3~</td>\n",
       "      <td>16</td>\n",
       "      <td>0.35</td>\n",
       "      <td>0.49</td>\n",
       "      <td>0.88</td>\n",
       "    </tr>\n",
       "  </tbody>\n",
       "</table>\n",
       "</div>"
      ],
      "text/plain": [
       "     age_cat freq_cat  segment_id  prob_dm1  prob_dm2  prob_dm3\n",
       "0     age~19    freq0           1      0.07      0.12      0.29\n",
       "1     age~19    freq1           2      0.21      0.30      0.58\n",
       "2     age~19    freq2           3      0.28      0.39      0.74\n",
       "3     age~19   freq3~           4      0.35      0.45      0.77\n",
       "4   age20~34    freq0           5      0.11      0.17      0.37\n",
       "5   age20~34    freq1           6      0.32      0.43      0.72\n",
       "6   age20~34    freq2           7      0.42      0.55      0.93\n",
       "7   age20~34   freq3~           8      0.52      0.63      0.94\n",
       "8   age35~49    freq0           9      0.08      0.14      0.33\n",
       "9   age35~49    freq1          10      0.25      0.35      0.67\n",
       "10  age35~49    freq2          11      0.34      0.45      0.86\n",
       "11  age35~49   freq3~          12      0.42      0.52      0.89\n",
       "12    age50~    freq0          13      0.07      0.13      0.32\n",
       "13    age50~    freq1          14      0.21      0.33      0.65\n",
       "14    age50~    freq2          15      0.28      0.42      0.84\n",
       "15    age50~   freq3~          16      0.35      0.49      0.88"
      ]
     },
     "execution_count": 71,
     "metadata": {},
     "output_type": "execute_result"
    }
   ],
   "source": [
    "df_pandas2 = prob_df.to_pandas()\n",
    "df_pandas2"
   ]
  },
  {
   "cell_type": "code",
   "execution_count": 72,
   "metadata": {},
   "outputs": [
    {
     "data": {
      "image/png": "[encoded data removed]",
      "text/plain": [
       "<Figure size 1440x216 with 4 Axes>"
      ]
     },
     "metadata": {
      "needs_background": "light"
     },
     "output_type": "display_data"
    }
   ],
   "source": [
    "cols = ['age~19','age20~34','age35~49','age50~']\n",
    "ax = {}\n",
    "fig, (ax[0],ax[1],ax[2]) = plt.subplots(1,3, figsize=(20,3))\n",
    "for i, ptn in enumerate(['prob_dm1', 'prob_dm2','prob_dm3']):\n",
    "    prob_pivot_df = pd.pivot_table(data=df_pandas2, values=ptn, columns='freq_cat', index='age_cat')\n",
    "    prob_pivot_df = prob_pivot_df.reindex(cols)\n",
    "    prob_pivot_df = prob_pivot_df.rename(index=lambda x: x.replace(\"age\",\"\"))\n",
    "    if i == 2:\n",
    "        sns.heatmap(prob_pivot_df, vmin=0, vmax=1, annot=True, fmt='.0%', cmap='Blues',ax=ax[i])\n",
    "    else:\n",
    "        sns.heatmap(prob_pivot_df, vmin=0, vmax=1, annot=True, fmt='.0%', cmap='Blues',ax=ax[i], cbar=False)\n",
    "    ax[i].set_title(f'Visit Probability of {ptn}')\n"
   ]
  },
  {
   "cell_type": "markdown",
   "metadata": {},
   "source": [
    "* 同じセグメントでは、クーポンの金額が大きいパターンの順に来店率が高くなる。\n",
    "* 同じ年齢区分では、昨年度の来店回数が多いほどれ来店率が高くなる。\n",
    "* 同じ昨年度来店回数区分では、age20~34の来店率が高くage~19の来店率が低い。\n"
   ]
  },
  {
   "cell_type": "markdown",
   "metadata": {},
   "source": [
    "1. 各会員に対してどのパターンのダイレクトメールを送付するかを決定\n",
    "2. 各会員に対して送付するダイレクトメールはいずれか１パターン\n",
    "3. クーポン付与による来客増加数を最大化する\n",
    "4. 怪異の予算消費期待値の合計は100万円以下\n",
    "5. 各パターンのダイレクトメールをそれぞれのセグメントに属する会員の10%以下に送付"
   ]
  },
  {
   "cell_type": "markdown",
   "metadata": {},
   "source": [
    "## モデリング１：会員別送付モデル\n"
   ]
  },
  {
   "cell_type": "code",
   "execution_count": 73,
   "metadata": {},
   "outputs": [],
   "source": [
    "import pulp\n",
    "\n",
    "problem = pulp.LpProblem(name='DiscountCouponProblem1', sense=pulp.LpMaximize)"
   ]
  },
  {
   "cell_type": "code",
   "execution_count": 74,
   "metadata": {},
   "outputs": [
    {
     "data": {
      "text/plain": [
       "15000"
      ]
     },
     "execution_count": 74,
     "metadata": {},
     "output_type": "execute_result"
    }
   ],
   "source": [
    "I = cust_df['customer_id'].to_list()\n",
    "M = ['1','2','3']\n",
    "\n",
    "# (1) 各会員に対してどのパターンのメールを送付するかを決定\n",
    "xim = {}  # 辞書を初期化\n",
    "for i in I:\n",
    "    for m in M:\n",
    "        xim[i, m] = pulp.LpVariable(name=f'xim({i},{m})', cat='Binary')\n",
    "\n",
    "len(xim)"
   ]
  },
  {
   "cell_type": "code",
   "execution_count": 75,
   "metadata": {},
   "outputs": [],
   "source": [
    "# (2) 各会員に対して送付するダイレクトメールはいずれか１パターン\n",
    "for i in I:\n",
    "    problem += pulp.lpSum(xim[i,m] for m in M) == 1"
   ]
  },
  {
   "cell_type": "code",
   "execution_count": 76,
   "metadata": {},
   "outputs": [
    {
     "data": {
      "text/html": [
       "<div>\n",
       "<style scoped>\n",
       "    .dataframe tbody tr th:only-of-type {\n",
       "        vertical-align: middle;\n",
       "    }\n",
       "\n",
       "    .dataframe tbody tr th {\n",
       "        vertical-align: top;\n",
       "    }\n",
       "\n",
       "    .dataframe thead th {\n",
       "        text-align: right;\n",
       "    }\n",
       "\n",
       "    .dataframe td {\n",
       "        white-space: pre;\n",
       "    }\n",
       "\n",
       "    .dataframe td {\n",
       "        padding-top: 0;\n",
       "    }\n",
       "\n",
       "    .dataframe td {\n",
       "        padding-bottom: 0;\n",
       "    }\n",
       "</style>\n",
       "<table border=\"1\" class=\"dataframe\">\n",
       "<small>shape: (5, 3)</small>\n",
       "<thead>\n",
       "<tr>\n",
       "<th>\n",
       "customer_id\n",
       "</th>\n",
       "<th>\n",
       "dm\n",
       "</th>\n",
       "<th>\n",
       "prob\n",
       "</th>\n",
       "</tr>\n",
       "<tr>\n",
       "<td>\n",
       "i64\n",
       "</td>\n",
       "<td>\n",
       "str\n",
       "</td>\n",
       "<td>\n",
       "f64\n",
       "</td>\n",
       "</tr>\n",
       "</thead>\n",
       "<tbody>\n",
       "<tr>\n",
       "<td>\n",
       "1\n",
       "</td>\n",
       "<td>\n",
       "&quot;1&quot;\n",
       "</td>\n",
       "<td>\n",
       "0.42\n",
       "</td>\n",
       "</tr>\n",
       "<tr>\n",
       "<td>\n",
       "2\n",
       "</td>\n",
       "<td>\n",
       "&quot;1&quot;\n",
       "</td>\n",
       "<td>\n",
       "0.08\n",
       "</td>\n",
       "</tr>\n",
       "<tr>\n",
       "<td>\n",
       "3\n",
       "</td>\n",
       "<td>\n",
       "&quot;1&quot;\n",
       "</td>\n",
       "<td>\n",
       "0.08\n",
       "</td>\n",
       "</tr>\n",
       "<tr>\n",
       "<td>\n",
       "4\n",
       "</td>\n",
       "<td>\n",
       "&quot;1&quot;\n",
       "</td>\n",
       "<td>\n",
       "0.07\n",
       "</td>\n",
       "</tr>\n",
       "<tr>\n",
       "<td>\n",
       "5\n",
       "</td>\n",
       "<td>\n",
       "&quot;1&quot;\n",
       "</td>\n",
       "<td>\n",
       "0.08\n",
       "</td>\n",
       "</tr>\n",
       "</tbody>\n",
       "</table>\n",
       "</div>"
      ],
      "text/plain": [
       "shape: (5, 3)\n",
       "┌─────────────┬─────┬──────┐\n",
       "│ customer_id ┆ dm  ┆ prob │\n",
       "│ ---         ┆ --- ┆ ---  │\n",
       "│ i64         ┆ str ┆ f64  │\n",
       "╞═════════════╪═════╪══════╡\n",
       "│ 1           ┆ 1   ┆ 0.42 │\n",
       "│ 2           ┆ 1   ┆ 0.08 │\n",
       "│ 3           ┆ 1   ┆ 0.08 │\n",
       "│ 4           ┆ 1   ┆ 0.07 │\n",
       "│ 5           ┆ 1   ┆ 0.08 │\n",
       "└─────────────┴─────┴──────┘"
      ]
     },
     "execution_count": 76,
     "metadata": {},
     "output_type": "execute_result"
    }
   ],
   "source": [
    "# \n",
    "keys = ['age_cat','freq_cat']\n",
    "cust_prob_df = cust_df.join(prob_df, on=keys, how='inner')\n",
    "\n",
    "cust_prob_df = cust_prob_df.rename({'prob_dm1':'1', 'prob_dm2':'2', 'prob_dm3':'3'})\n",
    "\n",
    "cust_prob_ver_df = cust_prob_df.melt(\n",
    "    id_vars=['customer_id'],\n",
    "    value_vars=['1','2','3'],\n",
    "    variable_name='dm',\n",
    "    value_name='prob'\n",
    ")\n",
    "cust_prob_ver_df.head()"
   ]
  },
  {
   "cell_type": "code",
   "execution_count": 77,
   "metadata": {},
   "outputs": [],
   "source": [
    "Pim = {\n",
    "    (row[\"customer_id\"],row[\"dm\"]):row[\"prob\"]\n",
    "    for row in cust_prob_ver_df.select([\"customer_id\",\"dm\",\"prob\"]).to_dicts()\n",
    "}"
   ]
  },
  {
   "cell_type": "code",
   "execution_count": 78,
   "metadata": {},
   "outputs": [],
   "source": [
    "# クーポン付与による来客増加数を最大化\n",
    "problem += pulp.lpSum((Pim[i,m] - Pim[i,'1']) * xim[i,m]\n",
    "                      for i in I for m in ['2','3'])"
   ]
  },
  {
   "cell_type": "code",
   "execution_count": 79,
   "metadata": {},
   "outputs": [],
   "source": [
    "Cm = {'1':0, '2':1000, '3':2000}\n",
    "\n",
    "# 顧客の消費する費用の期待値の合計は100万円以下\n",
    "problem += pulp.lpSum(Cm[m]*Pim[i,m]*xim[i,m] for i in I for m in ['2','3']) <= 1000000"
   ]
  },
  {
   "cell_type": "code",
   "execution_count": 80,
   "metadata": {},
   "outputs": [
    {
     "data": {
      "text/plain": [
       "16"
      ]
     },
     "execution_count": 80,
     "metadata": {},
     "output_type": "execute_result"
    }
   ],
   "source": [
    "# セグメントのリスト\n",
    "S = prob_df['segment_id'].to_list()\n",
    "len(S)"
   ]
  },
  {
   "cell_type": "code",
   "execution_count": 81,
   "metadata": {},
   "outputs": [],
   "source": [
    "# \n",
    "cust_prob_df1 = cust_prob_df.to_pandas()\n",
    "Ns = cust_prob_df1.groupby('segment_id')['customer_id'].count().to_dict()"
   ]
  },
  {
   "cell_type": "code",
   "execution_count": 82,
   "metadata": {},
   "outputs": [
    {
     "name": "stdout",
     "output_type": "stream",
     "text": [
      "{1: 200, 2: 150, 3: 50, 4: 100, 5: 600, 6: 450, 7: 150, 8: 300, 9: 800, 10: 600, 11: 200, 12: 400, 13: 400, 14: 300, 15: 100, 16: 200}\n"
     ]
    }
   ],
   "source": [
    "# 各セグメントとそのセグメントに属する顧客数を対応させる辞書の作成\n",
    "grouped_df = cust_prob_df.groupby(\"segment_id\").agg([\n",
    "    pl.col(\"customer_id\").count().alias(\"count\")\n",
    "])\n",
    "grouped_df = grouped_df.sort(\"segment_id\")\n",
    "Ns = dict(zip(grouped_df['segment_id'].to_list(), grouped_df['count'].to_list()))\n",
    "print(Ns)"
   ]
  },
  {
   "cell_type": "code",
   "execution_count": 83,
   "metadata": {},
   "outputs": [],
   "source": [
    "# 会員をキーとして属するセグメントを返す辞書\n",
    "Si = dict(zip(cust_prob_df['customer_id'].to_list(), cust_prob_df['segment_id'].to_list()))   "
   ]
  },
  {
   "cell_type": "code",
   "execution_count": 84,
   "metadata": {},
   "outputs": [],
   "source": [
    "# 各パターンのダイレクトメールに属する会員数の１０％以上送付\n",
    "for s in S:\n",
    "    for m in M:\n",
    "        problem += pulp.lpSum(xim[i,m] for i in I if Si[i] == s) >= 0.1*Ns[s]"
   ]
  },
  {
   "cell_type": "code",
   "execution_count": 85,
   "metadata": {},
   "outputs": [
    {
     "name": "stdout",
     "output_type": "stream",
     "text": [
      "Welcome to the CBC MILP Solver \n",
      "Version: 2.10.3 \n",
      "Build Date: Dec 15 2019 \n",
      "\n",
      "command line - /Users/takanohiroshi/.pyenv/versions/3.10.5/lib/python3.10/site-packages/pulp/solverdir/cbc/osx/64/cbc /var/folders/52/k1p3ltss0cx1z00jsbnh_2xr0000gn/T/dfa7dd8e221b4950a6dcd9846a64076a-pulp.mps -max -timeMode elapsed -branch -printingOptions all -solution /var/folders/52/k1p3ltss0cx1z00jsbnh_2xr0000gn/T/dfa7dd8e221b4950a6dcd9846a64076a-pulp.sol (default strategy 1)\n",
      "At line 2 NAME          MODEL\n",
      "At line 3 ROWS\n",
      "At line 5054 COLUMNS\n",
      "At line 85055 RHS\n",
      "At line 90105 BOUNDS\n",
      "At line 105106 ENDATA\n",
      "Problem MODEL has 5049 rows, 15000 columns and 40000 elements\n",
      "Coin0008I MODEL read with 0 errors\n",
      "Option for timeMode changed from cpu to elapsed\n",
      "Continuous objective value is 326.095 - 0.17 seconds\n",
      "Cgl0004I processed model has 5049 rows, 15000 columns (15000 integer (15000 of which binary)) and 40000 elements\n",
      "Cutoff increment increased from 1e-05 to 0.00999\n",
      "Cbc0038I Initial state - 2 integers unsatisfied sum - 0.156863\n",
      "Cbc0038I Pass   1: (0.38 seconds) suminf.    0.12500 (2) obj. -326.094 iterations 633\n",
      "Cbc0038I Solution found of -325.86\n",
      "Cbc0038I Before mini branch and bound, 14996 integers at bound fixed and 0 continuous\n",
      "Cbc0038I Full problem 5049 rows 15000 columns, reduced to 1 rows 2 columns\n",
      "Cbc0038I Mini branch and bound improved solution from -325.86 to -325.92 (0.41 seconds)\n",
      "Cbc0038I Round again with cutoff of -325.947\n",
      "Cbc0038I Pass   2: (0.42 seconds) suminf.    0.12500 (2) obj. -326.094 iterations 0\n",
      "Cbc0038I Pass   3: (0.44 seconds) suminf.    0.30893 (2) obj. -325.947 iterations 291\n",
      "Cbc0038I Pass   4: (0.46 seconds) suminf.    0.71429 (2) obj. -326.06 iterations 293\n",
      "Cbc0038I Pass   5: (0.50 seconds) suminf.    0.21299 (4) obj. -325.947 iterations 723\n",
      "Cbc0038I Pass   6: (0.54 seconds) suminf.    0.19029 (4) obj. -325.947 iterations 548\n",
      "Cbc0038I Pass   7: (0.58 seconds) suminf.    0.67857 (2) obj. -325.98 iterations 1008\n",
      "Cbc0038I Pass   8: (0.59 seconds) suminf.    0.67857 (2) obj. -325.98 iterations 1\n",
      "Cbc0038I Pass   9: (0.63 seconds) suminf.    0.79821 (2) obj. -325.947 iterations 733\n",
      "Cbc0038I Pass  10: (0.67 seconds) suminf.    0.67857 (2) obj. -325.98 iterations 735\n",
      "Cbc0038I Pass  11: (0.71 seconds) suminf.    0.54494 (4) obj. -325.947 iterations 814\n",
      "Cbc0038I Pass  12: (0.74 seconds) suminf.    0.44170 (4) obj. -325.947 iterations 518\n",
      "Cbc0038I Pass  13: (0.78 seconds) suminf.    0.60714 (2) obj. -325.97 iterations 978\n",
      "Cbc0038I Pass  14: (0.79 seconds) suminf.    0.60714 (2) obj. -325.97 iterations 1\n",
      "Cbc0038I Pass  15: (0.84 seconds) suminf.    0.69107 (2) obj. -325.947 iterations 881\n",
      "Cbc0038I Pass  16: (0.88 seconds) suminf.    0.60714 (2) obj. -325.97 iterations 874\n",
      "Cbc0038I Pass  17: (0.92 seconds) suminf.    1.78331 (6) obj. -325.947 iterations 829\n",
      "Cbc0038I Pass  18: (0.95 seconds) suminf.    0.42424 (2) obj. -325.947 iterations 608\n",
      "Cbc0038I Pass  19: (1.00 seconds) suminf.    0.46778 (4) obj. -325.947 iterations 1034\n",
      "Cbc0038I Pass  20: (1.04 seconds) suminf.    1.04376 (4) obj. -325.947 iterations 659\n",
      "Cbc0038I Pass  21: (1.07 seconds) suminf.    0.56110 (4) obj. -325.947 iterations 516\n",
      "Cbc0038I Pass  22: (1.11 seconds) suminf.    0.30893 (2) obj. -325.947 iterations 710\n",
      "Cbc0038I Pass  23: (1.16 seconds) suminf.    0.30952 (2) obj. -325.947 iterations 1107\n",
      "Cbc0038I Pass  24: (1.21 seconds) suminf.    0.30893 (2) obj. -325.947 iterations 851\n",
      "Cbc0038I Pass  25: (1.25 seconds) suminf.    1.41074 (4) obj. -325.947 iterations 611\n",
      "Cbc0038I Pass  26: (1.29 seconds) suminf.    0.31031 (4) obj. -325.947 iterations 454\n",
      "Cbc0038I Pass  27: (1.33 seconds) suminf.    0.63636 (2) obj. -325.95 iterations 935\n",
      "Cbc0038I Pass  28: (1.38 seconds) suminf.    0.51313 (4) obj. -325.947 iterations 986\n",
      "Cbc0038I Pass  29: (1.43 seconds) suminf.    1.54636 (4) obj. -325.947 iterations 877\n",
      "Cbc0038I Pass  30: (1.46 seconds) suminf.    0.76088 (4) obj. -325.947 iterations 457\n",
      "Cbc0038I Pass  31: (1.48 seconds) suminf.    0.63036 (2) obj. -325.947 iterations 189\n",
      "Cbc0038I Before mini branch and bound, 14084 integers at bound fixed and 0 continuous\n",
      "Cbc0038I Full problem 5049 rows 15000 columns, reduced to 44 rows 91 columns\n",
      "Cbc0038I Mini branch and bound improved solution from -325.92 to -326.09 (1.51 seconds)\n",
      "Cbc0038I After 1.51 seconds - Feasibility pump exiting with objective of -326.09 - took 1.13 seconds\n",
      "Cbc0012I Integer solution of -326.09 found by feasibility pump after 0 iterations and 0 nodes (1.51 seconds)\n",
      "Cbc0001I Search completed - best objective -326.0900000000031, took 0 iterations and 0 nodes (1.55 seconds)\n",
      "Cbc0035I Maximum depth 0, 0 variables fixed on reduced cost\n",
      "Cuts at root node changed objective from -326.095 to -326.095\n",
      "Probing was tried 0 times and created 0 cuts of which 0 were active after adding rounds of cuts (0.000 seconds)\n",
      "Gomory was tried 0 times and created 0 cuts of which 0 were active after adding rounds of cuts (0.000 seconds)\n",
      "Knapsack was tried 0 times and created 0 cuts of which 0 were active after adding rounds of cuts (0.000 seconds)\n",
      "Clique was tried 0 times and created 0 cuts of which 0 were active after adding rounds of cuts (0.000 seconds)\n",
      "MixedIntegerRounding2 was tried 0 times and created 0 cuts of which 0 were active after adding rounds of cuts (0.000 seconds)\n",
      "FlowCover was tried 0 times and created 0 cuts of which 0 were active after adding rounds of cuts (0.000 seconds)\n",
      "TwoMirCuts was tried 0 times and created 0 cuts of which 0 were active after adding rounds of cuts (0.000 seconds)\n",
      "ZeroHalf was tried 0 times and created 0 cuts of which 0 were active after adding rounds of cuts (0.000 seconds)\n",
      "\n",
      "Result - Optimal solution found\n",
      "\n",
      "Objective value:                326.09000000\n",
      "Enumerated nodes:               0\n",
      "Total iterations:               0\n",
      "Time (CPU seconds):             1.49\n",
      "Time (Wallclock seconds):       1.57\n",
      "\n",
      "Option for printingOptions changed from normal to all\n",
      "Total time (CPU seconds):       1.54   (Wallclock seconds):       1.63\n",
      "\n",
      "ステータス：Optimal\n",
      "目的関数値：326.1\n",
      "計算時間：1.77秒\n"
     ]
    }
   ],
   "source": [
    "# \n",
    "import time\n",
    "\n",
    "time_start = time.time()\n",
    "status = problem.solve()\n",
    "time_stop = time.time()\n",
    "\n",
    "print(f'ステータス：{pulp.LpStatus[status]}')\n",
    "print(f'目的関数値：{pulp.value(problem.objective):.4}')\n",
    "print(f'計算時間：{(time_stop - time_start):.3}秒')\n"
   ]
  },
  {
   "cell_type": "code",
   "execution_count": 86,
   "metadata": {},
   "outputs": [
    {
     "data": {
      "text/html": [
       "<div>\n",
       "<style scoped>\n",
       "    .dataframe tbody tr th:only-of-type {\n",
       "        vertical-align: middle;\n",
       "    }\n",
       "\n",
       "    .dataframe tbody tr th {\n",
       "        vertical-align: top;\n",
       "    }\n",
       "\n",
       "    .dataframe thead th {\n",
       "        text-align: right;\n",
       "    }\n",
       "\n",
       "    .dataframe td {\n",
       "        white-space: pre;\n",
       "    }\n",
       "\n",
       "    .dataframe td {\n",
       "        padding-top: 0;\n",
       "    }\n",
       "\n",
       "    .dataframe td {\n",
       "        padding-bottom: 0;\n",
       "    }\n",
       "</style>\n",
       "<table border=\"1\" class=\"dataframe\">\n",
       "<small>shape: (5, 3)</small>\n",
       "<thead>\n",
       "<tr>\n",
       "<th>\n",
       "send_dm1\n",
       "</th>\n",
       "<th>\n",
       "send_dm2\n",
       "</th>\n",
       "<th>\n",
       "send_dm3\n",
       "</th>\n",
       "</tr>\n",
       "<tr>\n",
       "<td>\n",
       "f64\n",
       "</td>\n",
       "<td>\n",
       "f64\n",
       "</td>\n",
       "<td>\n",
       "f64\n",
       "</td>\n",
       "</tr>\n",
       "</thead>\n",
       "<tbody>\n",
       "<tr>\n",
       "<td>\n",
       "0.0\n",
       "</td>\n",
       "<td>\n",
       "1.0\n",
       "</td>\n",
       "<td>\n",
       "0.0\n",
       "</td>\n",
       "</tr>\n",
       "<tr>\n",
       "<td>\n",
       "0.0\n",
       "</td>\n",
       "<td>\n",
       "1.0\n",
       "</td>\n",
       "<td>\n",
       "0.0\n",
       "</td>\n",
       "</tr>\n",
       "<tr>\n",
       "<td>\n",
       "0.0\n",
       "</td>\n",
       "<td>\n",
       "1.0\n",
       "</td>\n",
       "<td>\n",
       "0.0\n",
       "</td>\n",
       "</tr>\n",
       "<tr>\n",
       "<td>\n",
       "0.0\n",
       "</td>\n",
       "<td>\n",
       "1.0\n",
       "</td>\n",
       "<td>\n",
       "0.0\n",
       "</td>\n",
       "</tr>\n",
       "<tr>\n",
       "<td>\n",
       "0.0\n",
       "</td>\n",
       "<td>\n",
       "1.0\n",
       "</td>\n",
       "<td>\n",
       "0.0\n",
       "</td>\n",
       "</tr>\n",
       "</tbody>\n",
       "</table>\n",
       "</div>"
      ],
      "text/plain": [
       "shape: (5, 3)\n",
       "┌──────────┬──────────┬──────────┐\n",
       "│ send_dm1 ┆ send_dm2 ┆ send_dm3 │\n",
       "│ ---      ┆ ---      ┆ ---      │\n",
       "│ f64      ┆ f64      ┆ f64      │\n",
       "╞══════════╪══════════╪══════════╡\n",
       "│ 0.0      ┆ 1.0      ┆ 0.0      │\n",
       "│ 0.0      ┆ 1.0      ┆ 0.0      │\n",
       "│ 0.0      ┆ 1.0      ┆ 0.0      │\n",
       "│ 0.0      ┆ 1.0      ┆ 0.0      │\n",
       "│ 0.0      ┆ 1.0      ┆ 0.0      │\n",
       "└──────────┴──────────┴──────────┘"
      ]
     },
     "execution_count": 86,
     "metadata": {},
     "output_type": "execute_result"
    }
   ],
   "source": [
    "send_dm_df = pl.DataFrame([[xim[i,m].value() for m in M] for i in I], columns=['send_dm1', 'send_dm2', 'send_dm3'])\n",
    "send_dm_df.head()"
   ]
  },
  {
   "cell_type": "code",
   "execution_count": 87,
   "metadata": {},
   "outputs": [
    {
     "data": {
      "text/html": [
       "<div>\n",
       "<style scoped>\n",
       "    .dataframe tbody tr th:only-of-type {\n",
       "        vertical-align: middle;\n",
       "    }\n",
       "\n",
       "    .dataframe tbody tr th {\n",
       "        vertical-align: top;\n",
       "    }\n",
       "\n",
       "    .dataframe thead th {\n",
       "        text-align: right;\n",
       "    }\n",
       "\n",
       "    .dataframe td {\n",
       "        white-space: pre;\n",
       "    }\n",
       "\n",
       "    .dataframe td {\n",
       "        padding-top: 0;\n",
       "    }\n",
       "\n",
       "    .dataframe td {\n",
       "        padding-bottom: 0;\n",
       "    }\n",
       "</style>\n",
       "<table border=\"1\" class=\"dataframe\">\n",
       "<small>shape: (5, 6)</small>\n",
       "<thead>\n",
       "<tr>\n",
       "<th>\n",
       "customer_id\n",
       "</th>\n",
       "<th>\n",
       "age_cat\n",
       "</th>\n",
       "<th>\n",
       "freq_cat\n",
       "</th>\n",
       "<th>\n",
       "send_dm1\n",
       "</th>\n",
       "<th>\n",
       "send_dm2\n",
       "</th>\n",
       "<th>\n",
       "send_dm3\n",
       "</th>\n",
       "</tr>\n",
       "<tr>\n",
       "<td>\n",
       "i64\n",
       "</td>\n",
       "<td>\n",
       "str\n",
       "</td>\n",
       "<td>\n",
       "str\n",
       "</td>\n",
       "<td>\n",
       "f64\n",
       "</td>\n",
       "<td>\n",
       "f64\n",
       "</td>\n",
       "<td>\n",
       "f64\n",
       "</td>\n",
       "</tr>\n",
       "</thead>\n",
       "<tbody>\n",
       "<tr>\n",
       "<td>\n",
       "1\n",
       "</td>\n",
       "<td>\n",
       "&quot;age20~34&quot;\n",
       "</td>\n",
       "<td>\n",
       "&quot;freq2&quot;\n",
       "</td>\n",
       "<td>\n",
       "0.0\n",
       "</td>\n",
       "<td>\n",
       "1.0\n",
       "</td>\n",
       "<td>\n",
       "0.0\n",
       "</td>\n",
       "</tr>\n",
       "<tr>\n",
       "<td>\n",
       "2\n",
       "</td>\n",
       "<td>\n",
       "&quot;age35~49&quot;\n",
       "</td>\n",
       "<td>\n",
       "&quot;freq0&quot;\n",
       "</td>\n",
       "<td>\n",
       "0.0\n",
       "</td>\n",
       "<td>\n",
       "1.0\n",
       "</td>\n",
       "<td>\n",
       "0.0\n",
       "</td>\n",
       "</tr>\n",
       "<tr>\n",
       "<td>\n",
       "3\n",
       "</td>\n",
       "<td>\n",
       "&quot;age35~49&quot;\n",
       "</td>\n",
       "<td>\n",
       "&quot;freq0&quot;\n",
       "</td>\n",
       "<td>\n",
       "0.0\n",
       "</td>\n",
       "<td>\n",
       "1.0\n",
       "</td>\n",
       "<td>\n",
       "0.0\n",
       "</td>\n",
       "</tr>\n",
       "<tr>\n",
       "<td>\n",
       "4\n",
       "</td>\n",
       "<td>\n",
       "&quot;age~19&quot;\n",
       "</td>\n",
       "<td>\n",
       "&quot;freq0&quot;\n",
       "</td>\n",
       "<td>\n",
       "0.0\n",
       "</td>\n",
       "<td>\n",
       "1.0\n",
       "</td>\n",
       "<td>\n",
       "0.0\n",
       "</td>\n",
       "</tr>\n",
       "<tr>\n",
       "<td>\n",
       "5\n",
       "</td>\n",
       "<td>\n",
       "&quot;age35~49&quot;\n",
       "</td>\n",
       "<td>\n",
       "&quot;freq0&quot;\n",
       "</td>\n",
       "<td>\n",
       "0.0\n",
       "</td>\n",
       "<td>\n",
       "1.0\n",
       "</td>\n",
       "<td>\n",
       "0.0\n",
       "</td>\n",
       "</tr>\n",
       "</tbody>\n",
       "</table>\n",
       "</div>"
      ],
      "text/plain": [
       "shape: (5, 6)\n",
       "┌─────────────┬──────────┬──────────┬──────────┬──────────┬──────────┐\n",
       "│ customer_id ┆ age_cat  ┆ freq_cat ┆ send_dm1 ┆ send_dm2 ┆ send_dm3 │\n",
       "│ ---         ┆ ---      ┆ ---      ┆ ---      ┆ ---      ┆ ---      │\n",
       "│ i64         ┆ str      ┆ str      ┆ f64      ┆ f64      ┆ f64      │\n",
       "╞═════════════╪══════════╪══════════╪══════════╪══════════╪══════════╡\n",
       "│ 1           ┆ age20~34 ┆ freq2    ┆ 0.0      ┆ 1.0      ┆ 0.0      │\n",
       "│ 2           ┆ age35~49 ┆ freq0    ┆ 0.0      ┆ 1.0      ┆ 0.0      │\n",
       "│ 3           ┆ age35~49 ┆ freq0    ┆ 0.0      ┆ 1.0      ┆ 0.0      │\n",
       "│ 4           ┆ age~19   ┆ freq0    ┆ 0.0      ┆ 1.0      ┆ 0.0      │\n",
       "│ 5           ┆ age35~49 ┆ freq0    ┆ 0.0      ┆ 1.0      ┆ 0.0      │\n",
       "└─────────────┴──────────┴──────────┴──────────┴──────────┴──────────┘"
      ]
     },
     "execution_count": 87,
     "metadata": {},
     "output_type": "execute_result"
    }
   ],
   "source": [
    "cust_send_df = cust_df[['customer_id','age_cat','freq_cat']].hstack(send_dm_df)\n",
    "cust_send_df.head()"
   ]
  },
  {
   "cell_type": "code",
   "execution_count": 88,
   "metadata": {},
   "outputs": [
    {
     "data": {
      "text/html": [
       "<div>\n",
       "<style scoped>\n",
       "    .dataframe tbody tr th:only-of-type {\n",
       "        vertical-align: middle;\n",
       "    }\n",
       "\n",
       "    .dataframe tbody tr th {\n",
       "        vertical-align: top;\n",
       "    }\n",
       "\n",
       "    .dataframe thead th {\n",
       "        text-align: right;\n",
       "    }\n",
       "</style>\n",
       "<table border=\"1\" class=\"dataframe\">\n",
       "  <thead>\n",
       "    <tr style=\"text-align: right;\">\n",
       "      <th></th>\n",
       "      <th>customer_id</th>\n",
       "      <th>age_cat</th>\n",
       "      <th>freq_cat</th>\n",
       "      <th>send_dm1</th>\n",
       "      <th>send_dm2</th>\n",
       "      <th>send_dm3</th>\n",
       "    </tr>\n",
       "  </thead>\n",
       "  <tbody>\n",
       "    <tr>\n",
       "      <th>0</th>\n",
       "      <td>1</td>\n",
       "      <td>age20~34</td>\n",
       "      <td>freq2</td>\n",
       "      <td>0.0</td>\n",
       "      <td>1.0</td>\n",
       "      <td>0.0</td>\n",
       "    </tr>\n",
       "    <tr>\n",
       "      <th>1</th>\n",
       "      <td>2</td>\n",
       "      <td>age35~49</td>\n",
       "      <td>freq0</td>\n",
       "      <td>0.0</td>\n",
       "      <td>1.0</td>\n",
       "      <td>0.0</td>\n",
       "    </tr>\n",
       "    <tr>\n",
       "      <th>2</th>\n",
       "      <td>3</td>\n",
       "      <td>age35~49</td>\n",
       "      <td>freq0</td>\n",
       "      <td>0.0</td>\n",
       "      <td>1.0</td>\n",
       "      <td>0.0</td>\n",
       "    </tr>\n",
       "    <tr>\n",
       "      <th>3</th>\n",
       "      <td>4</td>\n",
       "      <td>age~19</td>\n",
       "      <td>freq0</td>\n",
       "      <td>0.0</td>\n",
       "      <td>1.0</td>\n",
       "      <td>0.0</td>\n",
       "    </tr>\n",
       "    <tr>\n",
       "      <th>4</th>\n",
       "      <td>5</td>\n",
       "      <td>age35~49</td>\n",
       "      <td>freq0</td>\n",
       "      <td>0.0</td>\n",
       "      <td>1.0</td>\n",
       "      <td>0.0</td>\n",
       "    </tr>\n",
       "  </tbody>\n",
       "</table>\n",
       "</div>"
      ],
      "text/plain": [
       "   customer_id   age_cat freq_cat  send_dm1  send_dm2  send_dm3\n",
       "0            1  age20~34    freq2       0.0       1.0       0.0\n",
       "1            2  age35~49    freq0       0.0       1.0       0.0\n",
       "2            3  age35~49    freq0       0.0       1.0       0.0\n",
       "3            4    age~19    freq0       0.0       1.0       0.0\n",
       "4            5  age35~49    freq0       0.0       1.0       0.0"
      ]
     },
     "execution_count": 88,
     "metadata": {},
     "output_type": "execute_result"
    }
   ],
   "source": [
    "cust_send_df2 = cust_send_df.to_pandas()\n",
    "cust_send_df2.head()"
   ]
  },
  {
   "cell_type": "code",
   "execution_count": 89,
   "metadata": {},
   "outputs": [
    {
     "data": {
      "image/png": "[encoded data removed]",
      "text/plain": [
       "<Figure size 1440x216 with 4 Axes>"
      ]
     },
     "metadata": {
      "needs_background": "light"
     },
     "output_type": "display_data"
    }
   ],
   "source": [
    "cols = ['age~19','age20~34','age35~49','age50~']\n",
    "ax = {}\n",
    "fig, (ax[0],ax[1],ax[2]) = plt.subplots(1,3, figsize=(20,3))\n",
    "for i, ptn in enumerate(['send_dm1', 'send_dm2','send_dm3']):\n",
    "    cust_send_pivot_df = pd.pivot_table(data=cust_send_df2, values=ptn, columns='freq_cat', index='age_cat', aggfunc='mean')\n",
    "    cust_send_pivot_df = cust_send_pivot_df.reindex(cols)\n",
    "    cust_send_pivot_df = cust_send_pivot_df.rename(index=lambda x: x.replace(\"age\",\"\"))\n",
    "    if i == 2:\n",
    "        sns.heatmap(cust_send_pivot_df, vmin=0, vmax=1, annot=True, fmt='.0%', cmap='Blues',ax=ax[i])\n",
    "    else:\n",
    "        sns.heatmap(cust_send_pivot_df, vmin=0, vmax=1, annot=True, fmt='.0%', cmap='Blues',ax=ax[i], cbar=False)\n",
    "    ax[i].set_title(f'{ptn}_rate')"
   ]
  },
  {
   "cell_type": "code",
   "execution_count": 90,
   "metadata": {},
   "outputs": [
    {
     "data": {
      "image/png": "[encoded data removed]",
      "text/plain": [
       "<Figure size 1440x216 with 4 Axes>"
      ]
     },
     "metadata": {
      "needs_background": "light"
     },
     "output_type": "display_data"
    }
   ],
   "source": [
    "cols = ['age~19','age20~34','age35~49','age50~']\n",
    "ax = {}\n",
    "fig, (ax[0],ax[1],ax[2]) = plt.subplots(1,3, figsize=(20,3))\n",
    "for i, ptn in enumerate(['send_dm1', 'send_dm2','send_dm3']):\n",
    "    cust_send_pivot_df = pd.pivot_table(data=cust_send_df2, values=ptn, columns='freq_cat', index='age_cat', aggfunc='sum')\n",
    "    cust_send_pivot_df = cust_send_pivot_df.reindex(cols)\n",
    "    cust_send_pivot_df = cust_send_pivot_df.rename(index=lambda x: x.replace(\"age\",\"\"))\n",
    "    if i == 2:\n",
    "        sns.heatmap(cust_send_pivot_df, vmax=800, annot=True, fmt='.1f', cmap='Blues',ax=ax[i])\n",
    "    else:\n",
    "        sns.heatmap(cust_send_pivot_df, vmax=800, annot=True, fmt='.1f', cmap='Blues',ax=ax[i], cbar=False)\n",
    "    ax[i].set_title(f'{ptn}_rate')"
   ]
  },
  {
   "cell_type": "markdown",
   "metadata": {},
   "source": [
    "# モデリング２：セグメント送付モデル\n"
   ]
  },
  {
   "cell_type": "code",
   "execution_count": 91,
   "metadata": {},
   "outputs": [],
   "source": [
    "# 数理モデルのインスタンス作成\n",
    "\n",
    "problem = pulp.LpProblem(name='DiscountCouponProblem2', sense=pulp.LpMaximize)"
   ]
  },
  {
   "cell_type": "code",
   "execution_count": 92,
   "metadata": {},
   "outputs": [
    {
     "data": {
      "text/plain": [
       "48"
      ]
     },
     "execution_count": 92,
     "metadata": {},
     "output_type": "execute_result"
    }
   ],
   "source": [
    "# 各会員に対してどのパターンのダイレクトメールを送付するかを決定\n",
    "\n",
    "xsm = {}\n",
    "\n",
    "#　[0,1]の変数を宣言\n",
    "for s in S:\n",
    "    for m in M:\n",
    "        xsm[s,m] = pulp.LpVariable(name=f'{s}, {m}', lowBound=0, upBound=1, cat='Continuous')\n",
    "len(xsm)"
   ]
  },
  {
   "cell_type": "code",
   "execution_count": 93,
   "metadata": {},
   "outputs": [],
   "source": [
    "# 各会員に対して送付するダイレクトメールはいずれか１パターン\n",
    "\n",
    "for s in S:\n",
    "    problem += pulp.lpSum(xsm[s,m] for m in M)==1"
   ]
  },
  {
   "cell_type": "code",
   "execution_count": 94,
   "metadata": {},
   "outputs": [],
   "source": [
    "prob_ver_df = prob_df.rename({'prob_dm1':'1', 'prob_dm2':'2', 'prob_dm3':'3'})\n",
    "prob_ver_df = prob_ver_df.melt(\n",
    "    id_vars=['segment_id'],\n",
    "    value_vars=['1','2','3'],\n",
    "    variable_name='dm',\n",
    "    value_name='prob'\n",
    ")\n",
    "Pam = dict(zip(zip(prob_ver_df['segment_id'].to_list(),prob_ver_df['dm'].to_list()), prob_ver_df['prob']))\n"
   ]
  },
  {
   "cell_type": "code",
   "execution_count": 95,
   "metadata": {},
   "outputs": [],
   "source": [
    "# クーポン付与による来客増加数を最大化\n",
    "problem += pulp.lpSum(Ns[s] * (Pam[s,m] - Pam[s,'1']) * xsm[s,m] for s in S for m in ['2','3'])"
   ]
  },
  {
   "cell_type": "code",
   "execution_count": 96,
   "metadata": {},
   "outputs": [],
   "source": [
    "# 会員の予算消費期待値の合計は１００万円以下\n",
    "problem += pulp.lpSum(Cm[m] * Ns[s] * Pam[s,m] * xsm[s,m] for s in S for m in ['2','3']) <= 1000000"
   ]
  },
  {
   "cell_type": "code",
   "execution_count": 97,
   "metadata": {},
   "outputs": [],
   "source": [
    "# 各パターンのダイレクトメールをそれぞれのセグメントに属する会員数の１０％以上送付\n",
    "for s in S:\n",
    "    for m in M:\n",
    "        problem += xsm[s,m] >= 0.1"
   ]
  },
  {
   "cell_type": "code",
   "execution_count": 98,
   "metadata": {},
   "outputs": [
    {
     "name": "stdout",
     "output_type": "stream",
     "text": [
      "Welcome to the CBC MILP Solver \n",
      "Version: 2.10.3 \n",
      "Build Date: Dec 15 2019 \n",
      "\n",
      "command line - /Users/takanohiroshi/.pyenv/versions/3.10.5/lib/python3.10/site-packages/pulp/solverdir/cbc/osx/64/cbc /var/folders/52/k1p3ltss0cx1z00jsbnh_2xr0000gn/T/64d8b0eaf33645c8ba7d71dd86bf4fcf-pulp.mps -max -timeMode elapsed -branch -printingOptions all -solution /var/folders/52/k1p3ltss0cx1z00jsbnh_2xr0000gn/T/64d8b0eaf33645c8ba7d71dd86bf4fcf-pulp.sol (default strategy 1)\n",
      "At line 2 NAME          MODEL\n",
      "At line 3 ROWS\n",
      "At line 70 COLUMNS\n",
      "At line 231 RHS\n",
      "At line 297 BOUNDS\n",
      "At line 346 ENDATA\n",
      "Problem MODEL has 65 rows, 48 columns and 128 elements\n",
      "Coin0008I MODEL read with 0 errors\n",
      "Option for timeMode changed from cpu to elapsed\n",
      "Presolve 17 (-48) rows, 32 (-16) columns and 64 (-64) elements\n",
      "0  Obj 229 Dual inf 981.57657 (32)\n",
      "6  Obj 326.0951\n",
      "Optimal - objective value 326.0951\n",
      "After Postsolve, objective 326.0951, infeasibilities - dual 11.960784 (3), primal 0 (0)\n",
      "Presolved model was optimal, full model needs cleaning up\n",
      "0  Obj 326.0951\n",
      "Optimal - objective value 326.0951\n",
      "Optimal objective 326.095098 - 6 iterations time 0.002, Presolve 0.00\n",
      "Option for printingOptions changed from normal to all\n",
      "Total time (CPU seconds):       0.00   (Wallclock seconds):       0.00\n",
      "\n",
      "ステータス：Optimal\n",
      "目的関数値：326.1\n",
      "計算時間：0.031秒\n"
     ]
    }
   ],
   "source": [
    "# \n",
    "import time\n",
    "\n",
    "time_start = time.time()\n",
    "status = problem.solve()\n",
    "time_stop = time.time()\n",
    "\n",
    "print(f'ステータス：{pulp.LpStatus[status]}')\n",
    "print(f'目的関数値：{pulp.value(problem.objective):.4}')\n",
    "print(f'計算時間：{(time_stop - time_start):.3}秒')\n"
   ]
  },
  {
   "cell_type": "code",
   "execution_count": 138,
   "metadata": {},
   "outputs": [
    {
     "data": {
      "text/html": [
       "<div>\n",
       "<style scoped>\n",
       "    .dataframe tbody tr th:only-of-type {\n",
       "        vertical-align: middle;\n",
       "    }\n",
       "\n",
       "    .dataframe tbody tr th {\n",
       "        vertical-align: top;\n",
       "    }\n",
       "\n",
       "    .dataframe thead th {\n",
       "        text-align: right;\n",
       "    }\n",
       "</style>\n",
       "<table border=\"1\" class=\"dataframe\">\n",
       "  <thead>\n",
       "    <tr style=\"text-align: right;\">\n",
       "      <th></th>\n",
       "      <th>segment_id</th>\n",
       "      <th>age_cat</th>\n",
       "      <th>freq_cat</th>\n",
       "      <th>send_prob_dm1</th>\n",
       "      <th>send_prob_dm2</th>\n",
       "      <th>send_prob_dm3</th>\n",
       "    </tr>\n",
       "  </thead>\n",
       "  <tbody>\n",
       "    <tr>\n",
       "      <th>0</th>\n",
       "      <td>1</td>\n",
       "      <td>age~19</td>\n",
       "      <td>freq0</td>\n",
       "      <td>0.1</td>\n",
       "      <td>0.800000</td>\n",
       "      <td>0.100000</td>\n",
       "    </tr>\n",
       "    <tr>\n",
       "      <th>1</th>\n",
       "      <td>2</td>\n",
       "      <td>age~19</td>\n",
       "      <td>freq1</td>\n",
       "      <td>0.8</td>\n",
       "      <td>0.100000</td>\n",
       "      <td>0.100000</td>\n",
       "    </tr>\n",
       "    <tr>\n",
       "      <th>2</th>\n",
       "      <td>3</td>\n",
       "      <td>age~19</td>\n",
       "      <td>freq2</td>\n",
       "      <td>0.8</td>\n",
       "      <td>0.100000</td>\n",
       "      <td>0.100000</td>\n",
       "    </tr>\n",
       "    <tr>\n",
       "      <th>3</th>\n",
       "      <td>4</td>\n",
       "      <td>age~19</td>\n",
       "      <td>freq3~</td>\n",
       "      <td>0.8</td>\n",
       "      <td>0.100000</td>\n",
       "      <td>0.100000</td>\n",
       "    </tr>\n",
       "    <tr>\n",
       "      <th>4</th>\n",
       "      <td>5</td>\n",
       "      <td>age20~34</td>\n",
       "      <td>freq0</td>\n",
       "      <td>0.8</td>\n",
       "      <td>0.100000</td>\n",
       "      <td>0.100000</td>\n",
       "    </tr>\n",
       "    <tr>\n",
       "      <th>5</th>\n",
       "      <td>6</td>\n",
       "      <td>age20~34</td>\n",
       "      <td>freq1</td>\n",
       "      <td>0.8</td>\n",
       "      <td>0.100000</td>\n",
       "      <td>0.100000</td>\n",
       "    </tr>\n",
       "    <tr>\n",
       "      <th>6</th>\n",
       "      <td>7</td>\n",
       "      <td>age20~34</td>\n",
       "      <td>freq2</td>\n",
       "      <td>0.8</td>\n",
       "      <td>0.100000</td>\n",
       "      <td>0.100000</td>\n",
       "    </tr>\n",
       "    <tr>\n",
       "      <th>7</th>\n",
       "      <td>8</td>\n",
       "      <td>age20~34</td>\n",
       "      <td>freq3~</td>\n",
       "      <td>0.8</td>\n",
       "      <td>0.100000</td>\n",
       "      <td>0.100000</td>\n",
       "    </tr>\n",
       "    <tr>\n",
       "      <th>8</th>\n",
       "      <td>9</td>\n",
       "      <td>age35~49</td>\n",
       "      <td>freq0</td>\n",
       "      <td>0.1</td>\n",
       "      <td>0.800000</td>\n",
       "      <td>0.100000</td>\n",
       "    </tr>\n",
       "    <tr>\n",
       "      <th>9</th>\n",
       "      <td>10</td>\n",
       "      <td>age35~49</td>\n",
       "      <td>freq1</td>\n",
       "      <td>0.8</td>\n",
       "      <td>0.100000</td>\n",
       "      <td>0.100000</td>\n",
       "    </tr>\n",
       "    <tr>\n",
       "      <th>10</th>\n",
       "      <td>11</td>\n",
       "      <td>age35~49</td>\n",
       "      <td>freq2</td>\n",
       "      <td>0.8</td>\n",
       "      <td>0.100000</td>\n",
       "      <td>0.100000</td>\n",
       "    </tr>\n",
       "    <tr>\n",
       "      <th>11</th>\n",
       "      <td>12</td>\n",
       "      <td>age35~49</td>\n",
       "      <td>freq3~</td>\n",
       "      <td>0.8</td>\n",
       "      <td>0.100000</td>\n",
       "      <td>0.100000</td>\n",
       "    </tr>\n",
       "    <tr>\n",
       "      <th>12</th>\n",
       "      <td>13</td>\n",
       "      <td>age50~</td>\n",
       "      <td>freq0</td>\n",
       "      <td>0.1</td>\n",
       "      <td>0.277696</td>\n",
       "      <td>0.622304</td>\n",
       "    </tr>\n",
       "    <tr>\n",
       "      <th>13</th>\n",
       "      <td>14</td>\n",
       "      <td>age50~</td>\n",
       "      <td>freq1</td>\n",
       "      <td>0.8</td>\n",
       "      <td>0.100000</td>\n",
       "      <td>0.100000</td>\n",
       "    </tr>\n",
       "    <tr>\n",
       "      <th>14</th>\n",
       "      <td>15</td>\n",
       "      <td>age50~</td>\n",
       "      <td>freq2</td>\n",
       "      <td>0.8</td>\n",
       "      <td>0.100000</td>\n",
       "      <td>0.100000</td>\n",
       "    </tr>\n",
       "    <tr>\n",
       "      <th>15</th>\n",
       "      <td>16</td>\n",
       "      <td>age50~</td>\n",
       "      <td>freq3~</td>\n",
       "      <td>0.8</td>\n",
       "      <td>0.100000</td>\n",
       "      <td>0.100000</td>\n",
       "    </tr>\n",
       "  </tbody>\n",
       "</table>\n",
       "</div>"
      ],
      "text/plain": [
       "    segment_id   age_cat freq_cat  send_prob_dm1  send_prob_dm2  send_prob_dm3\n",
       "0            1    age~19    freq0            0.1       0.800000       0.100000\n",
       "1            2    age~19    freq1            0.8       0.100000       0.100000\n",
       "2            3    age~19    freq2            0.8       0.100000       0.100000\n",
       "3            4    age~19   freq3~            0.8       0.100000       0.100000\n",
       "4            5  age20~34    freq0            0.8       0.100000       0.100000\n",
       "5            6  age20~34    freq1            0.8       0.100000       0.100000\n",
       "6            7  age20~34    freq2            0.8       0.100000       0.100000\n",
       "7            8  age20~34   freq3~            0.8       0.100000       0.100000\n",
       "8            9  age35~49    freq0            0.1       0.800000       0.100000\n",
       "9           10  age35~49    freq1            0.8       0.100000       0.100000\n",
       "10          11  age35~49    freq2            0.8       0.100000       0.100000\n",
       "11          12  age35~49   freq3~            0.8       0.100000       0.100000\n",
       "12          13    age50~    freq0            0.1       0.277696       0.622304\n",
       "13          14    age50~    freq1            0.8       0.100000       0.100000\n",
       "14          15    age50~    freq2            0.8       0.100000       0.100000\n",
       "15          16    age50~   freq3~            0.8       0.100000       0.100000"
      ]
     },
     "execution_count": 138,
     "metadata": {},
     "output_type": "execute_result"
    }
   ],
   "source": [
    "send_dm_df = pl.DataFrame([[xsm[s,m].value() for m in M] for s in S], columns=['send_prob_dm1', 'send_prob_dm2', 'send_prob_dm3'])\n",
    "seg_send_df = prob_df[['segment_id', 'age_cat','freq_cat']].hstack(send_dm_df)\n",
    "seg_send_df = seg_send_df.to_pandas()\n",
    "seg_send_df"
   ]
  },
  {
   "cell_type": "code",
   "execution_count": null,
   "metadata": {},
   "outputs": [],
   "source": []
  },
  {
   "cell_type": "code",
   "execution_count": 139,
   "metadata": {},
   "outputs": [
    {
     "data": {
      "image/png": "[encoded data removed]",
      "text/plain": [
       "<Figure size 1440x216 with 4 Axes>"
      ]
     },
     "metadata": {
      "needs_background": "light"
     },
     "output_type": "display_data"
    }
   ],
   "source": [
    "cols = ['age~19','age20~34','age35~49','age50~']\n",
    "ax={}\n",
    "fig, (ax[0], ax[1], ax[2]) = plt.subplots(1,3, figsize=(20,3))\n",
    "for i, ptn in enumerate(['send_prob_dm1','send_prob_dm2','send_prob_dm3']):\n",
    "    seg_send_pivot_df = pd.pivot_table(data=seg_send_df, values=ptn, columns='freq_cat', index='age_cat', aggfunc='mean')\n",
    "    seg_send_pivot_df= seg_send_pivot_df.reindex(cols)\n",
    "    seg_send_pivot_df = seg_send_pivot_df.rename(index=lambda x: x.replace(\"age\",\"\"))\n",
    "    if i == 2:\n",
    "        sns.heatmap(seg_send_pivot_df, vmin=0, vmax=1, annot=True, fmt='.1%', cmap='Blues',ax=ax[i])\n",
    "    else:\n",
    "        sns.heatmap(seg_send_pivot_df, vmin=0, vmax=1, annot=True, fmt='.1%', cmap='Blues',ax=ax[i], cbar=False)\n",
    "    ax[i].set_title(f'{ptn}_rate')"
   ]
  },
  {
   "cell_type": "code",
   "execution_count": 144,
   "metadata": {},
   "outputs": [],
   "source": [
    "seg_send_df['num_cust'] = seg_send_df['segment_id'].apply(lambda x: Ns[x])\n",
    "seg_send_df['send_num_dm1'] = seg_send_df['send_prob_dm1']*seg_send_df['num_cust']\n",
    "seg_send_df['send_num_dm2'] = seg_send_df['send_prob_dm2']*seg_send_df['num_cust']\n",
    "seg_send_df['send_num_dm3'] = seg_send_df['send_prob_dm3']*seg_send_df['num_cust']"
   ]
  },
  {
   "cell_type": "code",
   "execution_count": 146,
   "metadata": {},
   "outputs": [
    {
     "data": {
      "text/html": [
       "<div>\n",
       "<style scoped>\n",
       "    .dataframe tbody tr th:only-of-type {\n",
       "        vertical-align: middle;\n",
       "    }\n",
       "\n",
       "    .dataframe tbody tr th {\n",
       "        vertical-align: top;\n",
       "    }\n",
       "\n",
       "    .dataframe thead th {\n",
       "        text-align: right;\n",
       "    }\n",
       "</style>\n",
       "<table border=\"1\" class=\"dataframe\">\n",
       "  <thead>\n",
       "    <tr style=\"text-align: right;\">\n",
       "      <th></th>\n",
       "      <th>segment_id</th>\n",
       "      <th>send_num_dm1</th>\n",
       "      <th>send_num_dm2</th>\n",
       "      <th>send_num_dm3</th>\n",
       "    </tr>\n",
       "  </thead>\n",
       "  <tbody>\n",
       "    <tr>\n",
       "      <th>0</th>\n",
       "      <td>1</td>\n",
       "      <td>20.0</td>\n",
       "      <td>160.000000</td>\n",
       "      <td>20.000000</td>\n",
       "    </tr>\n",
       "    <tr>\n",
       "      <th>1</th>\n",
       "      <td>2</td>\n",
       "      <td>120.0</td>\n",
       "      <td>15.000000</td>\n",
       "      <td>15.000000</td>\n",
       "    </tr>\n",
       "    <tr>\n",
       "      <th>2</th>\n",
       "      <td>3</td>\n",
       "      <td>40.0</td>\n",
       "      <td>5.000000</td>\n",
       "      <td>5.000000</td>\n",
       "    </tr>\n",
       "    <tr>\n",
       "      <th>3</th>\n",
       "      <td>4</td>\n",
       "      <td>80.0</td>\n",
       "      <td>10.000000</td>\n",
       "      <td>10.000000</td>\n",
       "    </tr>\n",
       "    <tr>\n",
       "      <th>4</th>\n",
       "      <td>5</td>\n",
       "      <td>480.0</td>\n",
       "      <td>60.000000</td>\n",
       "      <td>60.000000</td>\n",
       "    </tr>\n",
       "    <tr>\n",
       "      <th>5</th>\n",
       "      <td>6</td>\n",
       "      <td>360.0</td>\n",
       "      <td>45.000000</td>\n",
       "      <td>45.000000</td>\n",
       "    </tr>\n",
       "    <tr>\n",
       "      <th>6</th>\n",
       "      <td>7</td>\n",
       "      <td>120.0</td>\n",
       "      <td>15.000000</td>\n",
       "      <td>15.000000</td>\n",
       "    </tr>\n",
       "    <tr>\n",
       "      <th>7</th>\n",
       "      <td>8</td>\n",
       "      <td>240.0</td>\n",
       "      <td>30.000000</td>\n",
       "      <td>30.000000</td>\n",
       "    </tr>\n",
       "    <tr>\n",
       "      <th>8</th>\n",
       "      <td>9</td>\n",
       "      <td>80.0</td>\n",
       "      <td>640.000000</td>\n",
       "      <td>80.000000</td>\n",
       "    </tr>\n",
       "    <tr>\n",
       "      <th>9</th>\n",
       "      <td>10</td>\n",
       "      <td>480.0</td>\n",
       "      <td>60.000000</td>\n",
       "      <td>60.000000</td>\n",
       "    </tr>\n",
       "    <tr>\n",
       "      <th>10</th>\n",
       "      <td>11</td>\n",
       "      <td>160.0</td>\n",
       "      <td>20.000000</td>\n",
       "      <td>20.000000</td>\n",
       "    </tr>\n",
       "    <tr>\n",
       "      <th>11</th>\n",
       "      <td>12</td>\n",
       "      <td>320.0</td>\n",
       "      <td>40.000000</td>\n",
       "      <td>40.000000</td>\n",
       "    </tr>\n",
       "    <tr>\n",
       "      <th>12</th>\n",
       "      <td>13</td>\n",
       "      <td>40.0</td>\n",
       "      <td>111.078432</td>\n",
       "      <td>248.921568</td>\n",
       "    </tr>\n",
       "    <tr>\n",
       "      <th>13</th>\n",
       "      <td>14</td>\n",
       "      <td>240.0</td>\n",
       "      <td>30.000000</td>\n",
       "      <td>30.000000</td>\n",
       "    </tr>\n",
       "    <tr>\n",
       "      <th>14</th>\n",
       "      <td>15</td>\n",
       "      <td>80.0</td>\n",
       "      <td>10.000000</td>\n",
       "      <td>10.000000</td>\n",
       "    </tr>\n",
       "    <tr>\n",
       "      <th>15</th>\n",
       "      <td>16</td>\n",
       "      <td>160.0</td>\n",
       "      <td>20.000000</td>\n",
       "      <td>20.000000</td>\n",
       "    </tr>\n",
       "  </tbody>\n",
       "</table>\n",
       "</div>"
      ],
      "text/plain": [
       "    segment_id  send_num_dm1  send_num_dm2  send_num_dm3\n",
       "0            1          20.0    160.000000     20.000000\n",
       "1            2         120.0     15.000000     15.000000\n",
       "2            3          40.0      5.000000      5.000000\n",
       "3            4          80.0     10.000000     10.000000\n",
       "4            5         480.0     60.000000     60.000000\n",
       "5            6         360.0     45.000000     45.000000\n",
       "6            7         120.0     15.000000     15.000000\n",
       "7            8         240.0     30.000000     30.000000\n",
       "8            9          80.0    640.000000     80.000000\n",
       "9           10         480.0     60.000000     60.000000\n",
       "10          11         160.0     20.000000     20.000000\n",
       "11          12         320.0     40.000000     40.000000\n",
       "12          13          40.0    111.078432    248.921568\n",
       "13          14         240.0     30.000000     30.000000\n",
       "14          15          80.0     10.000000     10.000000\n",
       "15          16         160.0     20.000000     20.000000"
      ]
     },
     "execution_count": 146,
     "metadata": {},
     "output_type": "execute_result"
    }
   ],
   "source": [
    "seg_send_df[['segment_id','send_num_dm1','send_num_dm2','send_num_dm3']]"
   ]
  },
  {
   "cell_type": "code",
   "execution_count": 148,
   "metadata": {},
   "outputs": [
    {
     "data": {
      "image/png": "[encoded data removed]",
      "text/plain": [
       "<Figure size 1440x216 with 4 Axes>"
      ]
     },
     "metadata": {
      "needs_background": "light"
     },
     "output_type": "display_data"
    }
   ],
   "source": [
    "cols = ['age~19','age20~34','age35~49','age50~']\n",
    "ax={}\n",
    "fig, (ax[0], ax[1], ax[2]) = plt.subplots(1,3, figsize=(20,3))\n",
    "for i, ptn in enumerate(['send_num_dm1','send_num_dm2','send_num_dm3']):\n",
    "    seg_send_pivot_df = pd.pivot_table(data=seg_send_df, values=ptn, columns='freq_cat', index='age_cat')\n",
    "    seg_send_pivot_df= seg_send_pivot_df.reindex(cols)\n",
    "    seg_send_pivot_df = seg_send_pivot_df.rename(index=lambda x: x.replace(\"age\",\"\"))\n",
    "    if i == 2:\n",
    "        sns.heatmap(seg_send_pivot_df, vmin=0, vmax=800, annot=True, fmt='.1f', cmap='Blues',ax=ax[i])\n",
    "    else:\n",
    "        sns.heatmap(seg_send_pivot_df, vmin=0, vmax=800, annot=True, fmt='.1f', cmap='Blues',ax=ax[i], cbar=False)\n",
    "    ax[i].set_title(f'{ptn}_rate')"
   ]
  },
  {
   "cell_type": "code",
   "execution_count": null,
   "metadata": {},
   "outputs": [],
   "source": []
  }
 ],
 "metadata": {
  "kernelspec": {
   "display_name": "Python 3",
   "language": "python",
   "name": "python3"
  },
  "language_info": {
   "codemirror_mode": {
    "name": "ipython",
    "version": 3
   },
   "file_extension": ".py",
   "mimetype": "text/x-python",
   "name": "python",
   "nbconvert_exporter": "python",
   "pygments_lexer": "ipython3",
   "version": "3.10.5"
  }
 },
 "nbformat": 4,
 "nbformat_minor": 2
}
